{
 "cells": [
  {
   "cell_type": "code",
   "execution_count": 1,
   "metadata": {},
   "outputs": [],
   "source": [
    "import gym\n",
    "import numpy as np\n",
    "import matplotlib.pyplot as plt\n",
    "import copy \n",
    "\n",
    "import time"
   ]
  },
  {
   "cell_type": "markdown",
   "metadata": {},
   "source": [
    "## Make Game Envoirment"
   ]
  },
  {
   "cell_type": "code",
   "execution_count": 2,
   "metadata": {},
   "outputs": [],
   "source": [
    "env = gym.make(\"MountainCar-v0\")"
   ]
  },
  {
   "cell_type": "markdown",
   "metadata": {},
   "source": [
    "## Essential Functions"
   ]
  },
  {
   "cell_type": "code",
   "execution_count": 23,
   "metadata": {},
   "outputs": [],
   "source": [
    "def normalize(state):\n",
    "    state = 2*(state - np.array([-0.3, 0]))/length \n",
    "    return np.append(state, state[0]*state[1])\n",
    "\n",
    "def get_features(state, centroids, sigma):\n",
    "    state = normalize(state)\n",
    "    return np.exp(-np.sqrt(np.sum(np.power(state - centroids, 2), axis=-1)) / (2*sigma)).reshape((dim_size**3, 1))\n",
    "\n",
    "def get_action(features, weights, epsilon):\n",
    "    if np.random.uniform() < epsilon:\n",
    "        return np.random.randint(3)\n",
    "    return np.argmax(get_Value(features, weights))\n",
    "\n",
    "def get_Value(features, weights):\n",
    "    return (weights @ features)"
   ]
  },
  {
   "cell_type": "markdown",
   "metadata": {},
   "source": [
    "## Train"
   ]
  },
  {
   "cell_type": "code",
   "execution_count": null,
   "metadata": {},
   "outputs": [],
   "source": [
    "length = env.observation_space.high - env.observation_space.low "
   ]
  },
  {
   "cell_type": "code",
   "execution_count": 8,
   "metadata": {},
   "outputs": [],
   "source": [
    "def RBF_SARSA_Linear(render = False, episodes = 100, dim_size = 10, gamma = 1, sigma = 0.15, epsilon = 0.5, decaying_rate = 0.997, alpha = 0.01):\n",
    "    centroids = np.random.uniform(-1,1, size = (dim_size, dim_size, dim_size, 3))\n",
    "    weights = np.zeros((3, dim_size**3))\n",
    "    total_rewards = []\n",
    "    ep = epsilon\n",
    "    for i in range(episodes):\n",
    "        state = env.reset()\n",
    "        done = False\n",
    "        action = np.random.randint(3)\n",
    "        rewards = 0\n",
    "        ep *= decaying_rate\n",
    "        while True:\n",
    "            if (render and i%25 == 0):\n",
    "                env.render()\n",
    "            next_state, reward, done, info = env.step(action)\n",
    "            #print(next_state, reward, done, info)\n",
    "            features = get_features(state, centroids, sigma)\n",
    "            Q = get_Value(features, weights)[action]\n",
    "            if done:\n",
    "                weights[action] += alpha*(reward - Q)*features.flatten()\n",
    "                break\n",
    "            next_action = get_action(features, weights, ep)\n",
    "            next_features = get_features(next_state, centroids, sigma)\n",
    "            next_Q = get_Value(next_features, weights)[next_action]\n",
    "            weights[action] += alpha*(reward + gamma*next_Q - Q)*features.flatten()\n",
    "            action = next_action\n",
    "            state = next_state\n",
    "            #if reward != -1:\n",
    "                #print(reward, \" episode \", i, \" state \", state)\n",
    "            rewards += reward\n",
    "        total_rewards.append(rewards)\n",
    "    env.close()\n",
    "    return weights, centroids, total_rewards"
   ]
  },
  {
   "cell_type": "code",
   "execution_count": 9,
   "metadata": {},
   "outputs": [
    {
     "data": {
      "text/plain": [
       "-155.064"
      ]
     },
     "execution_count": 9,
     "metadata": {},
     "output_type": "execute_result"
    }
   ],
   "source": [
    "dim_size = 10\n",
    "w,c, total_rewards = RBF_SARSA_Linear(render = False, episodes = 1000, dim_size = dim_size, gamma = 1, sigma = 0.17,epsilon = 0.3, decaying_rate = 0.999)\n",
    "np.mean(total_rewards)"
   ]
  },
  {
   "cell_type": "markdown",
   "metadata": {},
   "source": [
    "## Play"
   ]
  },
  {
   "cell_type": "code",
   "execution_count": 31,
   "metadata": {},
   "outputs": [
    {
     "data": {
      "text/plain": [
       "True"
      ]
     },
     "execution_count": 31,
     "metadata": {},
     "output_type": "execute_result"
    }
   ],
   "source": [
    "s = env.reset()\n",
    "env.render()\n"
   ]
  },
  {
   "cell_type": "code",
   "execution_count": 32,
   "metadata": {},
   "outputs": [],
   "source": [
    "s = env.reset()\n",
    "\n",
    "for _ in range(1000):\n",
    "    env.render()\n",
    "    f = get_features(s, c, 0.35)\n",
    "    a = np.argmax(w @ f)\n",
    "    s, r, done, info = env.step(a) \n",
    "#     if done:\n",
    "#         break\n",
    "    time.sleep(0.01)\n",
    "env.close()"
   ]
  },
  {
   "cell_type": "code",
   "execution_count": null,
   "metadata": {},
   "outputs": [],
   "source": []
  }
 ],
 "metadata": {
  "kernelspec": {
   "display_name": "Python 3",
   "language": "python",
   "name": "python3"
  },
  "language_info": {
   "codemirror_mode": {
    "name": "ipython",
    "version": 3
   },
   "file_extension": ".py",
   "mimetype": "text/x-python",
   "name": "python",
   "nbconvert_exporter": "python",
   "pygments_lexer": "ipython3",
   "version": "3.8.10"
  }
 },
 "nbformat": 4,
 "nbformat_minor": 2
}
